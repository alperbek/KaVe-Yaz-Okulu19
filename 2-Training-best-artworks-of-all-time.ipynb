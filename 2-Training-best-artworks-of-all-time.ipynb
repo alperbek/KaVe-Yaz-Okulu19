{
 "cells": [
  {
   "cell_type": "markdown",
   "metadata": {
    "colab_type": "text",
    "id": "tR_FPrVBFNP7"
   },
   "source": [
    "# Karmaşık Sistemler ve Veri Bilimi Yaz Okulu - 2019"
   ]
  },
  {
   "cell_type": "markdown",
   "metadata": {},
   "source": [
    "# 1. Bölüm - Veri Kümesini inceleme\n",
    "\n",
    "[1-Dataset-Analysis-best-artworks-of-all-time.ipynb](/notebooks/1-Dataset-Analysis-best-artworks-of-all-time.ipynb)"
   ]
  },
  {
   "cell_type": "markdown",
   "metadata": {
    "colab_type": "text",
    "id": "xijubqvNVovc"
   },
   "source": [
    "## 2. Model oluşturma ve Eğitim"
   ]
  },
  {
   "cell_type": "markdown",
   "metadata": {
    "colab_type": "text",
    "id": "pEjVBowpMRLk"
   },
   "source": [
    "### Kütüphaneleri yükleyelim"
   ]
  },
  {
   "cell_type": "code",
   "execution_count": null,
   "metadata": {
    "colab": {},
    "colab_type": "code",
    "id": "8lA3gO27HwtU"
   },
   "outputs": [],
   "source": [
    "import pandas as pd\n",
    "import numpy as np\n",
    "import matplotlib.pyplot as plt\n",
    "import json\n",
    "import os\n",
    "from tqdm import tqdm, tqdm_notebook\n",
    "import random\n",
    "import pickle\n",
    "\n",
    "import tensorflow as tf\n",
    "from tensorflow.keras.models import Sequential, Model\n",
    "from tensorflow.keras.layers import *\n",
    "from tensorflow.keras.optimizers import *\n",
    "from tensorflow.keras.applications import *\n",
    "from tensorflow.keras.callbacks import *\n",
    "from tensorflow.keras.initializers import *\n",
    "from tensorflow.keras.preprocessing.image import ImageDataGenerator\n",
    "\n",
    "from numpy.random import seed\n",
    "seed(1)\n",
    "from tensorflow import set_random_seed\n",
    "set_random_seed(1)"
   ]
  },
  {
   "cell_type": "code",
   "execution_count": 1,
   "metadata": {
    "colab": {
     "base_uri": "https://localhost:8080/",
     "height": 34
    },
    "colab_type": "code",
    "executionInfo": {
     "elapsed": 2253,
     "status": "ok",
     "timestamp": 1563461752007,
     "user": {
      "displayName": "Yavuz Komecoglu",
      "photoUrl": "https://lh5.googleusercontent.com/-dzZB-UXC-sg/AAAAAAAAAAI/AAAAAAAAAA8/tIw-cjN99m0/s64/photo.jpg",
      "userId": "16389606560977088214"
     },
     "user_tz": -180
    },
    "id": "dxkyn-OPI7Be",
    "outputId": "5304593f-fbe2-40bd-f624-e03547324ae7"
   },
   "outputs": [
    {
     "name": "stdout",
     "output_type": "stream",
     "text": [
      "artists.csv  best-artworks-of-all-time.zip  images  images.zip\tresized.zip\r\n"
     ]
    }
   ],
   "source": [
    "!ls 'dataset'"
   ]
  },
  {
   "cell_type": "code",
   "execution_count": null,
   "metadata": {
    "colab": {
     "base_uri": "https://localhost:8080/",
     "height": 34
    },
    "colab_type": "code",
    "executionInfo": {
     "elapsed": 1633,
     "status": "ok",
     "timestamp": 1563461752011,
     "user": {
      "displayName": "Yavuz Komecoglu",
      "photoUrl": "https://lh5.googleusercontent.com/-dzZB-UXC-sg/AAAAAAAAAAI/AAAAAAAAAA8/tIw-cjN99m0/s64/photo.jpg",
      "userId": "16389606560977088214"
     },
     "user_tz": -180
    },
    "id": "jZQYumvnI_8e",
    "outputId": "2b33458e-127c-43f3-8193-90d7494333e5"
   },
   "outputs": [],
   "source": [
    "dataset_root_path = 'dataset/'\n",
    "table_artists_path = dataset_root_path + 'artists.csv'\n",
    "\n",
    "df_artists = pd.read_csv(table_artists_path)\n",
    "df_artists.shape"
   ]
  },
  {
   "cell_type": "markdown",
   "metadata": {
    "colab_type": "text",
    "id": "vYxi8wGEJZ_8"
   },
   "source": [
    "### Veri İşleme\n",
    "Veri kümesi dengeli olmadığından (Van Gogh'un 877 eseri varken, Paul Gauguin'in sadece 331 eseri mevcut) '[class_weight](https://scikit-learn.org/stable/modules/generated/sklearn.utils.class_weight.compute_class_weight.html)' belirlemek eğitimin başarımını arttıran bir faktör.\n",
    "\n",
    "**Daha iyi bir sınıflandırma için 200'ün üzerinde eseri olan 11 sanatçı seçilerek devam edeceğiz.**"
   ]
  },
  {
   "cell_type": "code",
   "execution_count": null,
   "metadata": {
    "colab": {
     "base_uri": "https://localhost:8080/",
     "height": 394
    },
    "colab_type": "code",
    "executionInfo": {
     "elapsed": 515,
     "status": "ok",
     "timestamp": 1563461754253,
     "user": {
      "displayName": "Yavuz Komecoglu",
      "photoUrl": "https://lh5.googleusercontent.com/-dzZB-UXC-sg/AAAAAAAAAAI/AAAAAAAAAA8/tIw-cjN99m0/s64/photo.jpg",
      "userId": "16389606560977088214"
     },
     "user_tz": -180
    },
    "id": "HkWSD8xJJU5N",
    "outputId": "123cb4d9-5110-4b86-b934-888df253e361"
   },
   "outputs": [],
   "source": [
    "# Sort artists by number of paintings\n",
    "artists = df_artists.sort_values(by=['paintings'], ascending=False)\n",
    "\n",
    "# Create a dataframe with artists having more than 200 paintings\n",
    "artists_top = df_artists[df_artists['paintings'] >= 200].reset_index()\n",
    "artists_top = artists_top[['name', 'paintings']]\n",
    "artists_top['class_weight'] = max(artists_top.paintings)/artists_top.paintings\n",
    "artists_top"
   ]
  },
  {
   "cell_type": "code",
   "execution_count": null,
   "metadata": {
    "colab": {
     "base_uri": "https://localhost:8080/",
     "height": 34
    },
    "colab_type": "code",
    "executionInfo": {
     "elapsed": 541,
     "status": "ok",
     "timestamp": 1563461755945,
     "user": {
      "displayName": "Yavuz Komecoglu",
      "photoUrl": "https://lh5.googleusercontent.com/-dzZB-UXC-sg/AAAAAAAAAAI/AAAAAAAAAA8/tIw-cjN99m0/s64/photo.jpg",
      "userId": "16389606560977088214"
     },
     "user_tz": -180
    },
    "id": "Be9DDM5hh-J6",
    "outputId": "3d7e9934-16cf-4c9a-a955-66a1739fa832"
   },
   "outputs": [],
   "source": [
    "len(artists_top)"
   ]
  },
  {
   "cell_type": "markdown",
   "metadata": {
    "colab_type": "text",
    "id": "WuHbqG_KhcVZ"
   },
   "source": [
    "Veri kümesi dengeli olmadığından '[class_weight](https://scikit-learn.org/stable/modules/generated/sklearn.utils.class_weight.compute_class_weight.html)' belirlemek eğitimin başarımını arttıran bir faktör."
   ]
  },
  {
   "cell_type": "code",
   "execution_count": null,
   "metadata": {
    "colab": {
     "base_uri": "https://localhost:8080/",
     "height": 208
    },
    "colab_type": "code",
    "executionInfo": {
     "elapsed": 364,
     "status": "ok",
     "timestamp": 1563461757013,
     "user": {
      "displayName": "Yavuz Komecoglu",
      "photoUrl": "https://lh5.googleusercontent.com/-dzZB-UXC-sg/AAAAAAAAAAI/AAAAAAAAAA8/tIw-cjN99m0/s64/photo.jpg",
      "userId": "16389606560977088214"
     },
     "user_tz": -180
    },
    "id": "tzytMURkJc-P",
    "outputId": "9cbb30af-eaa8-4a62-fe82-b680d3f9c16f"
   },
   "outputs": [],
   "source": [
    "# Set class weights - assign higher weights to underrepresented classes\n",
    "class_weights = artists_top['class_weight'].to_dict()\n",
    "class_weights"
   ]
  },
  {
   "cell_type": "code",
   "execution_count": null,
   "metadata": {
    "colab": {},
    "colab_type": "code",
    "id": "R4tFg7JQJfOx"
   },
   "outputs": [],
   "source": [
    "# There is some problem recognizing 'Albrecht_Dürer' (don't know why, worth exploring)\n",
    "# So I'll update this string as directory name to df's\n",
    "updated_name = \"Albrecht_Dürer\".replace(\"_\", \" \")\n",
    "artists_top.iloc[4, 0] = updated_name"
   ]
  },
  {
   "cell_type": "code",
   "execution_count": null,
   "metadata": {
    "colab": {
     "base_uri": "https://localhost:8080/",
     "height": 208
    },
    "colab_type": "code",
    "executionInfo": {
     "elapsed": 413,
     "status": "ok",
     "timestamp": 1563461757605,
     "user": {
      "displayName": "Yavuz Komecoglu",
      "photoUrl": "https://lh5.googleusercontent.com/-dzZB-UXC-sg/AAAAAAAAAAI/AAAAAAAAAA8/tIw-cjN99m0/s64/photo.jpg",
      "userId": "16389606560977088214"
     },
     "user_tz": -180
    },
    "id": "WoT-AmnMJg_K",
    "outputId": "523f6234-7316-4b26-c74e-010b3a52b9a6"
   },
   "outputs": [],
   "source": [
    "# Explore images of top artists\n",
    "images_dir = dataset_root_path + 'images'\n",
    "artists_dirs = os.listdir(images_dir)\n",
    "artists_top_name = artists_top['name'].str.replace(' ', '_').values\n",
    "\n",
    "# See if all directories exist\n",
    "for name in artists_top_name:\n",
    "    if os.path.exists(os.path.join(images_dir, name)):\n",
    "        print(\"Found -->\", os.path.join(images_dir, name))\n",
    "    else:\n",
    "        print(\"Did not find -->\", os.path.join(images_dir, name))"
   ]
  },
  {
   "cell_type": "markdown",
   "metadata": {
    "colab_type": "text",
    "id": "HU8Y6QL4JqJu"
   },
   "source": [
    "### Veri kümesindeki bir kaç resmi rastgele görüntüleyelim"
   ]
  },
  {
   "cell_type": "code",
   "execution_count": null,
   "metadata": {
    "colab": {
     "base_uri": "https://localhost:8080/",
     "height": 377
    },
    "colab_type": "code",
    "executionInfo": {
     "elapsed": 4215,
     "status": "ok",
     "timestamp": 1563461762950,
     "user": {
      "displayName": "Yavuz Komecoglu",
      "photoUrl": "https://lh5.googleusercontent.com/-dzZB-UXC-sg/AAAAAAAAAAI/AAAAAAAAAA8/tIw-cjN99m0/s64/photo.jpg",
      "userId": "16389606560977088214"
     },
     "user_tz": -180
    },
    "id": "z9HdVvfvJmiY",
    "outputId": "f42e3793-e28a-4a5c-c3e1-9aa28f7f0fb0"
   },
   "outputs": [],
   "source": [
    "# Print few random paintings\n",
    "n = 5\n",
    "fig, axes = plt.subplots(1, n, figsize=(20,10))\n",
    "\n",
    "for i in range(n):\n",
    "    random_artist = random.choice(artists_top_name)\n",
    "    random_image = random.choice(os.listdir(os.path.join(images_dir, random_artist)))\n",
    "    random_image_file = os.path.join(images_dir, random_artist, random_image)\n",
    "    image = plt.imread(random_image_file)\n",
    "    axes[i].imshow(image)\n",
    "    axes[i].set_title(\"Artist: \" + random_artist.replace('_', ' '))\n",
    "    axes[i].axis('off')\n",
    "\n",
    "plt.show()"
   ]
  },
  {
   "cell_type": "markdown",
   "metadata": {
    "colab_type": "text",
    "id": "Y1MaoG1KJwBW"
   },
   "source": [
    "## Veri Arttırma\n",
    "Detaylı bilgi: https://keras.io/preprocessing/image/"
   ]
  },
  {
   "cell_type": "code",
   "execution_count": null,
   "metadata": {
    "colab": {
     "base_uri": "https://localhost:8080/",
     "height": 69
    },
    "colab_type": "code",
    "executionInfo": {
     "elapsed": 757,
     "status": "ok",
     "timestamp": 1563461767440,
     "user": {
      "displayName": "Yavuz Komecoglu",
      "photoUrl": "https://lh5.googleusercontent.com/-dzZB-UXC-sg/AAAAAAAAAAI/AAAAAAAAAA8/tIw-cjN99m0/s64/photo.jpg",
      "userId": "16389606560977088214"
     },
     "user_tz": -180
    },
    "id": "aP-oCy6fJqzQ",
    "outputId": "0a233590-bd78-485c-9dd2-11b09599d78d"
   },
   "outputs": [],
   "source": [
    "# Augment data\n",
    "batch_size = 16\n",
    "train_input_shape = (224, 224, 3)\n",
    "n_classes = artists_top.shape[0]\n",
    "\n",
    "train_datagen = ImageDataGenerator(validation_split=0.2,\n",
    "                                   rescale=1./255.,\n",
    "                                   #rotation_range=45,\n",
    "                                   #width_shift_range=0.5,\n",
    "                                   #height_shift_range=0.5,\n",
    "                                   shear_range=5,\n",
    "                                   zoom_range=0.7,\n",
    "                                   horizontal_flip=True,\n",
    "                                   vertical_flip=True,\n",
    "                                  )\n",
    "\n",
    "train_generator = train_datagen.flow_from_directory(directory=images_dir,\n",
    "                                                    class_mode='categorical',\n",
    "                                                    target_size=train_input_shape[0:2],\n",
    "                                                    batch_size=batch_size,\n",
    "                                                    subset=\"training\",\n",
    "                                                    shuffle=True,\n",
    "                                                    classes=artists_top_name.tolist()\n",
    "                                                   )\n",
    "\n",
    "valid_generator = train_datagen.flow_from_directory(directory=images_dir,\n",
    "                                                    class_mode='categorical',\n",
    "                                                    target_size=train_input_shape[0:2],\n",
    "                                                    batch_size=batch_size,\n",
    "                                                    subset=\"validation\",\n",
    "                                                    shuffle=True,\n",
    "                                                    classes=artists_top_name.tolist()\n",
    "                                                   )\n",
    "\n",
    "STEP_SIZE_TRAIN = train_generator.n//train_generator.batch_size\n",
    "STEP_SIZE_VALID = valid_generator.n//valid_generator.batch_size\n",
    "print(\"Total number of batches =\", STEP_SIZE_TRAIN, \"and\", STEP_SIZE_VALID)"
   ]
  },
  {
   "cell_type": "markdown",
   "metadata": {
    "colab_type": "text",
    "id": "JeZnp2_uJ2Lq"
   },
   "source": [
    "### Veri arttırma işlemi uygulanmış resimlerden rastgele görüntüleyelim"
   ]
  },
  {
   "cell_type": "code",
   "execution_count": null,
   "metadata": {
    "colab": {
     "base_uri": "https://localhost:8080/",
     "height": 433
    },
    "colab_type": "code",
    "executionInfo": {
     "elapsed": 2588,
     "status": "ok",
     "timestamp": 1563461772049,
     "user": {
      "displayName": "Yavuz Komecoglu",
      "photoUrl": "https://lh5.googleusercontent.com/-dzZB-UXC-sg/AAAAAAAAAAI/AAAAAAAAAA8/tIw-cjN99m0/s64/photo.jpg",
      "userId": "16389606560977088214"
     },
     "user_tz": -180
    },
    "id": "P-0ilfx7J2wc",
    "outputId": "77c7328a-2389-400e-fbc5-27aa3d91e719"
   },
   "outputs": [],
   "source": [
    "# Print a random paintings and it's random augmented version\n",
    "fig, axes = plt.subplots(1, 2, figsize=(20,10))\n",
    "\n",
    "random_artist = random.choice(artists_top_name)\n",
    "random_image = random.choice(os.listdir(os.path.join(images_dir, random_artist)))\n",
    "random_image_file = os.path.join(images_dir, random_artist, random_image)\n",
    "\n",
    "# Original image\n",
    "image = plt.imread(random_image_file)\n",
    "axes[0].imshow(image)\n",
    "axes[0].set_title(\"An original Image of \" + random_artist.replace('_', ' '))\n",
    "axes[0].axis('off')\n",
    "\n",
    "# Transformed image\n",
    "aug_image = train_datagen.random_transform(image)\n",
    "axes[1].imshow(aug_image)\n",
    "axes[1].set_title(\"A transformed Image of \" + random_artist.replace('_', ' '))\n",
    "axes[1].axis('off')\n",
    "\n",
    "plt.show()"
   ]
  },
  {
   "cell_type": "markdown",
   "metadata": {
    "colab_type": "text",
    "id": "PZhEWQ1PJ9aq"
   },
   "source": [
    "## Model Oluşturma"
   ]
  },
  {
   "cell_type": "code",
   "execution_count": null,
   "metadata": {
    "colab": {
     "base_uri": "https://localhost:8080/",
     "height": 72
    },
    "colab_type": "code",
    "executionInfo": {
     "elapsed": 7843,
     "status": "ok",
     "timestamp": 1563462053123,
     "user": {
      "displayName": "Yavuz Komecoglu",
      "photoUrl": "https://lh5.googleusercontent.com/-dzZB-UXC-sg/AAAAAAAAAAI/AAAAAAAAAA8/tIw-cjN99m0/s64/photo.jpg",
      "userId": "16389606560977088214"
     },
     "user_tz": -180
    },
    "id": "CX-YHbFjJ8-5",
    "outputId": "583eb404-683c-4712-8326-d27f78ab644d"
   },
   "outputs": [],
   "source": [
    "# Load pre-trained model\n",
    "base_model = ResNet50(weights='imagenet', include_top=False, input_shape=train_input_shape)\n",
    "\n",
    "for layer in base_model.layers:\n",
    "    layer.trainable = True"
   ]
  },
  {
   "cell_type": "code",
   "execution_count": null,
   "metadata": {
    "colab": {
     "base_uri": "https://localhost:8080/",
     "height": 106
    },
    "colab_type": "code",
    "executionInfo": {
     "elapsed": 516,
     "status": "ok",
     "timestamp": 1563462076470,
     "user": {
      "displayName": "Yavuz Komecoglu",
      "photoUrl": "https://lh5.googleusercontent.com/-dzZB-UXC-sg/AAAAAAAAAAI/AAAAAAAAAA8/tIw-cjN99m0/s64/photo.jpg",
      "userId": "16389606560977088214"
     },
     "user_tz": -180
    },
    "id": "CTuG1ePXJ4Wj",
    "outputId": "e9ed59f3-0c5a-483b-9f08-e3c8e7ef01d8"
   },
   "outputs": [],
   "source": [
    "# Add layers at the end\n",
    "X = base_model.output\n",
    "#X = MaxPooling2D(2,2)(X)\n",
    "X = Flatten()(X)\n",
    "\n",
    "X = Dense(512, kernel_initializer='he_uniform')(X)\n",
    "#X = Dropout(0.5)(X)\n",
    "X = BatchNormalization()(X)\n",
    "X = Activation('relu')(X)\n",
    "\n",
    "X = Dense(16, kernel_initializer='he_uniform')(X)\n",
    "#X = Dropout(0.5)(X)\n",
    "X = BatchNormalization()(X)\n",
    "X = Activation('relu')(X)\n",
    "\n",
    "output = Dense(n_classes, activation='softmax')(X)\n",
    "\n",
    "model = Model(inputs=base_model.input, outputs=output)"
   ]
  },
  {
   "cell_type": "code",
   "execution_count": null,
   "metadata": {
    "colab": {},
    "colab_type": "code",
    "id": "0uEyjxCxKCXH"
   },
   "outputs": [],
   "source": [
    "optimizer = Adam(lr=0.0001)\n",
    "model.compile(loss='categorical_crossentropy',\n",
    "              optimizer=optimizer, \n",
    "              metrics=['accuracy'])"
   ]
  },
  {
   "cell_type": "code",
   "execution_count": null,
   "metadata": {
    "colab": {},
    "colab_type": "code",
    "id": "MqbqgPxDKEZE"
   },
   "outputs": [],
   "source": [
    "n_epoch = 40\n",
    "\n",
    "early_stop = EarlyStopping(monitor='val_loss', patience=20, verbose=1, \n",
    "                           mode='auto', restore_best_weights=True)\n",
    "\n",
    "reduce_lr = ReduceLROnPlateau(monitor='val_loss', factor=0.1, patience=5, \n",
    "                              verbose=1, mode='auto')"
   ]
  },
  {
   "cell_type": "markdown",
   "metadata": {
    "colab_type": "text",
    "id": "wkV7sefmfnZM"
   },
   "source": [
    "### Eğitim"
   ]
  },
  {
   "cell_type": "code",
   "execution_count": null,
   "metadata": {
    "colab": {
     "base_uri": "https://localhost:8080/",
     "height": 1000
    },
    "colab_type": "code",
    "executionInfo": {
     "elapsed": 1594772,
     "status": "ok",
     "timestamp": 1563468150694,
     "user": {
      "displayName": "Yavuz Komecoglu",
      "photoUrl": "https://lh5.googleusercontent.com/-dzZB-UXC-sg/AAAAAAAAAAI/AAAAAAAAAA8/tIw-cjN99m0/s64/photo.jpg",
      "userId": "16389606560977088214"
     },
     "user_tz": -180
    },
    "id": "jpaVs_ChKIaL",
    "outputId": "9a3ffe3f-ef53-411f-9564-f9030de20443"
   },
   "outputs": [],
   "source": [
    "# Train the model - all layers\n",
    "history = model.fit_generator(generator=train_generator, steps_per_epoch=STEP_SIZE_TRAIN,\n",
    "                              validation_data=valid_generator, validation_steps=STEP_SIZE_VALID,\n",
    "                              epochs=n_epoch,\n",
    "                              shuffle=True,\n",
    "                              verbose=1,\n",
    "                              callbacks=[reduce_lr],\n",
    "                              use_multiprocessing=True,\n",
    "                              workers=16,\n",
    "                              class_weight=class_weights\n",
    "                             )"
   ]
  },
  {
   "cell_type": "markdown",
   "metadata": {
    "colab_type": "text",
    "id": "xASXPOMZiRqt"
   },
   "source": [
    "**Eğitim aşamasındaki değerleri dosyaya kaydedelim**"
   ]
  },
  {
   "cell_type": "code",
   "execution_count": null,
   "metadata": {
    "colab": {},
    "colab_type": "code",
    "id": "ETSiuKwbtxCe"
   },
   "outputs": [],
   "source": [
    "!mkdir 'models/'\n",
    "\n",
    "with open('models/trainHistoryDict_40.pkl', 'wb') as file_pi:\n",
    "  pickle.dump(history.history, file_pi)"
   ]
  },
  {
   "cell_type": "markdown",
   "metadata": {
    "colab_type": "text",
    "id": "aY4Nb7wSiXev"
   },
   "source": [
    "**Modeli ve eğitilmiş ağırlık dosyalarını kaydedelim**"
   ]
  },
  {
   "cell_type": "code",
   "execution_count": null,
   "metadata": {
    "colab": {
     "base_uri": "https://localhost:8080/",
     "height": 34
    },
    "colab_type": "code",
    "executionInfo": {
     "elapsed": 370857,
     "status": "ok",
     "timestamp": 1563468817892,
     "user": {
      "displayName": "Yavuz Komecoglu",
      "photoUrl": "https://lh5.googleusercontent.com/-dzZB-UXC-sg/AAAAAAAAAAI/AAAAAAAAAA8/tIw-cjN99m0/s64/photo.jpg",
      "userId": "16389606560977088214"
     },
     "user_tz": -180
    },
    "id": "DattLpqN5HD8",
    "outputId": "bcaa5471-f490-4380-ece8-66f6fb9b532d"
   },
   "outputs": [],
   "source": [
    "from keras.models import load_model\n",
    "\n",
    "# Creates a HDF5 file 'my_model.h5'\n",
    "model.save('models/my_model.h5')\n"
   ]
  },
  {
   "cell_type": "code",
   "execution_count": null,
   "metadata": {
    "colab": {
     "base_uri": "https://localhost:8080/",
     "height": 34
    },
    "colab_type": "code",
    "executionInfo": {
     "elapsed": 6667,
     "status": "ok",
     "timestamp": 1563469597069,
     "user": {
      "displayName": "Yavuz Komecoglu",
      "photoUrl": "https://lh5.googleusercontent.com/-dzZB-UXC-sg/AAAAAAAAAAI/AAAAAAAAAA8/tIw-cjN99m0/s64/photo.jpg",
      "userId": "16389606560977088214"
     },
     "user_tz": -180
    },
    "id": "dZZ_78g1ukB2",
    "outputId": "e7983304-d85b-48f8-802b-93bc7c50275d"
   },
   "outputs": [],
   "source": [
    "# serialize model to JSON\n",
    "model_json = model.to_json()\n",
    "with open(\"models/model_40.json\", \"w\") as json_file:\n",
    "    json_file.write(model_json)\n",
    "    \n",
    "# serialize weights to HDF5\n",
    "model.save_weights(\"models/model_40.h5\")\n",
    "print(\"Saved model to disk\")"
   ]
  },
  {
   "cell_type": "markdown",
   "metadata": {
    "colab_type": "text",
    "id": "OyNPosIkKpAb"
   },
   "source": [
    "## Eğitim Doğruluk/Kayıp Değerleri ile Doğrulama Veri Kümesi için Doğruluk/Kayıp Değerlerini Çizdirelim"
   ]
  },
  {
   "cell_type": "markdown",
   "metadata": {
    "colab_type": "text",
    "id": "-U_fottosT8T"
   },
   "source": [
    "Epoch - 40"
   ]
  },
  {
   "cell_type": "code",
   "execution_count": null,
   "metadata": {
    "colab": {
     "base_uri": "https://localhost:8080/",
     "height": 336
    },
    "colab_type": "code",
    "executionInfo": {
     "elapsed": 922,
     "status": "ok",
     "timestamp": 1563469609230,
     "user": {
      "displayName": "Yavuz Komecoglu",
      "photoUrl": "https://lh5.googleusercontent.com/-dzZB-UXC-sg/AAAAAAAAAAI/AAAAAAAAAA8/tIw-cjN99m0/s64/photo.jpg",
      "userId": "16389606560977088214"
     },
     "user_tz": -180
    },
    "id": "s4tpnBJjiNDz",
    "outputId": "67f02e72-6531-4f4d-fa47-4b898ba30d8d"
   },
   "outputs": [],
   "source": [
    "# Plot the training graph\n",
    "def plot_training(history):\n",
    "    acc = history['acc']\n",
    "    val_acc = history['val_acc']\n",
    "    loss = history['loss']\n",
    "    val_loss = history['val_loss']\n",
    "    epochs = range(len(acc))\n",
    "\n",
    "    fig, axes = plt.subplots(1, 2, figsize=(15,5))\n",
    "    \n",
    "    axes[0].plot(epochs, acc, 'r-', label='Training Accuracy')\n",
    "    axes[0].plot(epochs, val_acc, 'b--', label='Validation Accuracy')\n",
    "    axes[0].set_title('Training and Validation Accuracy')\n",
    "    axes[0].legend(loc='best')\n",
    "\n",
    "    axes[1].plot(epochs, loss, 'r-', label='Training Loss')\n",
    "    axes[1].plot(epochs, val_loss, 'b--', label='Validation Loss')\n",
    "    axes[1].set_title('Training and Validation Loss')\n",
    "    axes[1].legend(loc='best')\n",
    "    \n",
    "    plt.show()\n",
    "    \n",
    "plot_training(history.history)"
   ]
  },
  {
   "cell_type": "markdown",
   "metadata": {
    "colab_type": "text",
    "id": "xGqzBImKKuEP"
   },
   "source": [
    "## Modelin Performansını Ölçelim"
   ]
  },
  {
   "cell_type": "markdown",
   "metadata": {
    "colab_type": "text",
    "id": "Czk31Y54sGhC"
   },
   "source": [
    "Epoch - 40"
   ]
  },
  {
   "cell_type": "code",
   "execution_count": null,
   "metadata": {
    "colab": {
     "base_uri": "https://localhost:8080/",
     "height": 34
    },
    "colab_type": "code",
    "executionInfo": {
     "elapsed": 103323,
     "status": "ok",
     "timestamp": 1563469715158,
     "user": {
      "displayName": "Yavuz Komecoglu",
      "photoUrl": "https://lh5.googleusercontent.com/-dzZB-UXC-sg/AAAAAAAAAAI/AAAAAAAAAA8/tIw-cjN99m0/s64/photo.jpg",
      "userId": "16389606560977088214"
     },
     "user_tz": -180
    },
    "id": "j1h3FwGwsCwh",
    "outputId": "f315e101-815a-4cf0-b3cf-829234ec3b2e"
   },
   "outputs": [],
   "source": [
    "# Prediction accuracy on train data\n",
    "score = model.evaluate_generator(train_generator)\n",
    "print(\"Prediction accuracy on train data =\", score[1])"
   ]
  },
  {
   "cell_type": "code",
   "execution_count": null,
   "metadata": {
    "colab": {
     "base_uri": "https://localhost:8080/",
     "height": 34
    },
    "colab_type": "code",
    "executionInfo": {
     "elapsed": 127961,
     "status": "ok",
     "timestamp": 1563469742389,
     "user": {
      "displayName": "Yavuz Komecoglu",
      "photoUrl": "https://lh5.googleusercontent.com/-dzZB-UXC-sg/AAAAAAAAAAI/AAAAAAAAAA8/tIw-cjN99m0/s64/photo.jpg",
      "userId": "16389606560977088214"
     },
     "user_tz": -180
    },
    "id": "sX0uYK6vsFb2",
    "outputId": "5975fa4a-45b6-4e9d-8092-6d867d5459d7"
   },
   "outputs": [],
   "source": [
    "# Prediction accuracy on CV data\n",
    "score = model.evaluate_generator(valid_generator)\n",
    "print(\"Prediction accuracy on CV data =\", score[1])"
   ]
  },
  {
   "cell_type": "markdown",
   "metadata": {
    "colab_type": "text",
    "id": "ze8Wtsh-KzKa"
   },
   "source": [
    "### Confusion Matrix'i hesaplayarak, eğitilen modelin hangi sanatçının eserlerinin ne kadar ayırt edebiliyor, hangi sanatçının eserlerine benzetip karıştırıyor, inceleyelim"
   ]
  },
  {
   "cell_type": "markdown",
   "metadata": {
    "colab_type": "text",
    "id": "tJCC8NkdtPcf"
   },
   "source": [
    "Epoch - 40\n"
   ]
  },
  {
   "cell_type": "code",
   "execution_count": null,
   "metadata": {
    "colab": {
     "base_uri": "https://localhost:8080/",
     "height": 1000
    },
    "colab_type": "code",
    "executionInfo": {
     "elapsed": 46637,
     "status": "ok",
     "timestamp": 1563470237679,
     "user": {
      "displayName": "Yavuz Komecoglu",
      "photoUrl": "https://lh5.googleusercontent.com/-dzZB-UXC-sg/AAAAAAAAAAI/AAAAAAAAAA8/tIw-cjN99m0/s64/photo.jpg",
      "userId": "16389606560977088214"
     },
     "user_tz": -180
    },
    "id": "_a4mbbDAtRWy",
    "outputId": "6afbbe22-b462-4942-9da6-4171269fbf50"
   },
   "outputs": [],
   "source": [
    "# Classification report and confusion matrix\n",
    "from sklearn.metrics import *\n",
    "import seaborn as sns\n",
    "\n",
    "tick_labels = artists_top_name.tolist()\n",
    "\n",
    "def showClassficationReport_Generator(model, valid_generator, STEP_SIZE_VALID):\n",
    "    # Loop on each generator batch and predict\n",
    "    y_pred, y_true = [], []\n",
    "    for i in range(STEP_SIZE_VALID):\n",
    "        (X,y) = next(valid_generator)\n",
    "        y_pred.append(model.predict(X))\n",
    "        y_true.append(y)\n",
    "    \n",
    "    # Create a flat list for y_true and y_pred\n",
    "    y_pred = [subresult for result in y_pred for subresult in result]\n",
    "    y_true = [subresult for result in y_true for subresult in result]\n",
    "    \n",
    "    # Update Truth vector based on argmax\n",
    "    y_true = np.argmax(y_true, axis=1)\n",
    "    y_true = np.asarray(y_true).ravel()\n",
    "    \n",
    "    # Update Prediction vector based on argmax\n",
    "    y_pred = np.argmax(y_pred, axis=1)\n",
    "    y_pred = np.asarray(y_pred).ravel()\n",
    "    \n",
    "    # Confusion Matrix\n",
    "    fig, ax = plt.subplots(figsize=(10,10))\n",
    "    conf_matrix = confusion_matrix(y_true, y_pred, labels=np.arange(n_classes))\n",
    "    conf_matrix = conf_matrix/np.sum(conf_matrix, axis=1)\n",
    "    sns.heatmap(conf_matrix, annot=True, fmt=\".2f\", square=True, cbar=False, \n",
    "                cmap=plt.cm.jet, xticklabels=tick_labels, yticklabels=tick_labels,\n",
    "                ax=ax)\n",
    "    ax.set_ylabel('Actual')\n",
    "    ax.set_xlabel('Predicted')\n",
    "    ax.set_title('Confusion Matrix')\n",
    "    plt.show()\n",
    "    \n",
    "    print('Classification Report:')\n",
    "    print(classification_report(y_true, y_pred, labels=np.arange(n_classes), target_names=artists_top_name.tolist()))\n",
    "\n",
    "showClassficationReport_Generator(model, valid_generator, STEP_SIZE_VALID)"
   ]
  },
  {
   "cell_type": "markdown",
   "metadata": {
    "colab_type": "text",
    "id": "7bTZJalvK3IH"
   },
   "source": [
    "### Veri kümesinin rastgele resimler üzerinde tahmin performansını değerlendirelim"
   ]
  },
  {
   "cell_type": "code",
   "execution_count": null,
   "metadata": {
    "colab": {
     "base_uri": "https://localhost:8080/",
     "height": 420
    },
    "colab_type": "code",
    "executionInfo": {
     "elapsed": 3117,
     "status": "ok",
     "timestamp": 1563470269571,
     "user": {
      "displayName": "Yavuz Komecoglu",
      "photoUrl": "https://lh5.googleusercontent.com/-dzZB-UXC-sg/AAAAAAAAAAI/AAAAAAAAAA8/tIw-cjN99m0/s64/photo.jpg",
      "userId": "16389606560977088214"
     },
     "user_tz": -180
    },
    "id": "EWrTQh7AK3vW",
    "outputId": "bd2cc9cd-0060-4217-86ad-188fbba6bf64"
   },
   "outputs": [],
   "source": [
    "# Prediction\n",
    "from keras.preprocessing import *\n",
    "\n",
    "n = 5\n",
    "fig, axes = plt.subplots(1, n, figsize=(25,10))\n",
    "\n",
    "for i in range(n):\n",
    "    random_artist = random.choice(artists_top_name)\n",
    "    random_image = random.choice(os.listdir(os.path.join(images_dir, random_artist)))\n",
    "    random_image_file = os.path.join(images_dir, random_artist, random_image)\n",
    "\n",
    "    # Original image\n",
    "    test_image = image.load_img(random_image_file, target_size=(train_input_shape[0:2]))\n",
    "\n",
    "    # Predict artist\n",
    "    test_image = image.img_to_array(test_image)\n",
    "    test_image /= 255.\n",
    "    test_image = np.expand_dims(test_image, axis=0)\n",
    "\n",
    "    prediction = model.predict(test_image)\n",
    "    prediction_probability = np.amax(prediction)\n",
    "    prediction_idx = np.argmax(prediction)\n",
    "\n",
    "    labels = train_generator.class_indices\n",
    "    labels = dict((v,k) for k,v in labels.items())\n",
    "\n",
    "\n",
    "    title = \"Actual artist = {}\\nPredicted artist = {}\\nPrediction probability = {:.2f} %\" \\\n",
    "                .format(random_artist.replace('_', ' '), labels[prediction_idx].replace('_', ' '),\n",
    "                        prediction_probability*100)\n",
    "\n",
    "    # Print image\n",
    "    axes[i].imshow(plt.imread(random_image_file))\n",
    "    axes[i].set_title(title)\n",
    "    axes[i].axis('off')\n",
    "\n",
    "plt.show()"
   ]
  },
  {
   "cell_type": "markdown",
   "metadata": {
    "colab_type": "text",
    "id": "J2uwnSNWFz52"
   },
   "source": [
    "## Web URL Test"
   ]
  },
  {
   "cell_type": "code",
   "execution_count": null,
   "metadata": {
    "colab": {
     "base_uri": "https://localhost:8080/",
     "height": 321
    },
    "colab_type": "code",
    "executionInfo": {
     "elapsed": 3385,
     "status": "ok",
     "timestamp": 1563470275735,
     "user": {
      "displayName": "Yavuz Komecoglu",
      "photoUrl": "https://lh5.googleusercontent.com/-dzZB-UXC-sg/AAAAAAAAAAI/AAAAAAAAAA8/tIw-cjN99m0/s64/photo.jpg",
      "userId": "16389606560977088214"
     },
     "user_tz": -180
    },
    "id": "p95xCkzy-Mi9",
    "outputId": "382f4760-c7a6-4391-b60b-947f51987df5"
   },
   "outputs": [],
   "source": [
    "# Predict from web - this is an image of Titian.\n",
    "# Replace 'url' with any image of one of the 11 artists above and run this cell.\n",
    "\n",
    "url = 'http://www.4-construction.com/up/images/featured/art/03-jacqueline-at-the-studio-1956.jpg' #@param {type:\"string\"}\n",
    "\n",
    "print(url)\n",
    "\n",
    "import imageio\n",
    "import cv2\n",
    "\n",
    "web_image = imageio.imread(url)\n",
    "web_image = cv2.resize(web_image, dsize=train_input_shape[0:2], )\n",
    "web_image = image.img_to_array(web_image)\n",
    "web_image /= 255.\n",
    "web_image = np.expand_dims(web_image, axis=0)\n",
    "\n",
    "\n",
    "prediction = model.predict(web_image)\n",
    "prediction_probability = np.amax(prediction)\n",
    "prediction_idx = np.argmax(prediction)\n",
    "\n",
    "print(\"Predicted artist =\", labels[prediction_idx].replace('_', ' '))\n",
    "print(\"Prediction probability =\", prediction_probability*100, \"%\")\n",
    "\n",
    "plt.imshow(imageio.imread(url))\n",
    "plt.axis('off')\n",
    "plt.show()"
   ]
  },
  {
   "cell_type": "code",
   "execution_count": null,
   "metadata": {
    "colab": {},
    "colab_type": "code",
    "id": "G7z7aT4CFxZa"
   },
   "outputs": [],
   "source": []
  }
 ],
 "metadata": {
  "accelerator": "GPU",
  "colab": {
   "collapsed_sections": [],
   "name": "2-Training.ipynb",
   "provenance": [],
   "version": "0.3.2"
  },
  "kernelspec": {
   "display_name": "Python 3",
   "language": "python",
   "name": "python3"
  },
  "language_info": {
   "codemirror_mode": {
    "name": "ipython",
    "version": 3
   },
   "file_extension": ".py",
   "mimetype": "text/x-python",
   "name": "python",
   "nbconvert_exporter": "python",
   "pygments_lexer": "ipython3",
   "version": "3.5.2"
  }
 },
 "nbformat": 4,
 "nbformat_minor": 1
}
